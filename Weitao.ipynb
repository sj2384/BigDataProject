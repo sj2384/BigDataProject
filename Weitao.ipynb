{
 "cells": [
  {
   "cell_type": "code",
   "execution_count": 49,
   "metadata": {
    "collapsed": true,
    "deletable": true,
    "editable": true
   },
   "outputs": [],
   "source": [
    "import pandas as pd\n",
    "import os\n",
    "import numpy as np\n",
    "import matplotlib.pyplot as plt\n",
    "import matplotlib as mpl\n",
    "import datetime\n",
    "%matplotlib inline "
   ]
  },
  {
   "cell_type": "code",
   "execution_count": 2,
   "metadata": {
    "collapsed": true,
    "deletable": true,
    "editable": true
   },
   "outputs": [],
   "source": [
    "def readDict(filename, sep):\n",
    "    with open(filename, \"r\") as f:\n",
    "        value_dic = {}\n",
    "        dtype_dic = {}\n",
    "        stype_dic = {}\n",
    "        label_dic = {}\n",
    "        for line in f:\n",
    "            key, values = line.split(sep)\n",
    "            values = values.split(',')\n",
    "            if 'value' in values[1]:\n",
    "                value_dic[key] = int(values[0])\n",
    "            elif \"dtype\" in values[1]:\n",
    "                dtype_dic[key] = int(values[0])\n",
    "            elif \"stype\" in values[1]:\n",
    "                stype_dic[key] = int(values[0])\n",
    "            elif \"label\" in values[1]:\n",
    "                label_dic[key] = int(values[0])\n",
    "            else:\n",
    "                print('wow')\n",
    "            #dict[values[0][2:-1]] = {int(x[:-3]) for x in values[1:len(values)]}\n",
    "        return(value_dic, dtype_dic, stype_dic, label_dic)"
   ]
  },
  {
   "cell_type": "code",
   "execution_count": 3,
   "metadata": {
    "collapsed": false,
    "deletable": true,
    "editable": true
   },
   "outputs": [],
   "source": [
    "cols = ['col_name','# unique values','# missing values','% missing values','base type','semantic type','# valid', '# null', '# invalid']\n",
    "df_cols = pd.DataFrame(columns=cols)\n",
    "outputs = os.listdir('./output')\n",
    "outputs = [f for f in outputs if f[-3:]=='out']\n",
    "cnt = 0\n",
    "for file in outputs:\n",
    "    df_cols.loc[cnt, 'col_name'] = file[:-4]\n",
    "    value_dic, dtype_dic, stype_dic, label_dic = readDict('./output/'+file, '\\t')\n",
    "    df_cols.loc[cnt, '# unique values'] = len(value_dic)\n",
    "    if value_dic.get('NULL'):\n",
    "        df_cols.loc[cnt, '# missing values'] = int(value_dic.get('NULL'))\n",
    "        df_cols.loc[cnt, '% missing values'] = str(round(float(value_dic.get('NULL') / 5101231 * 100), 2))+'%'\n",
    "    else:\n",
    "        df_cols.loc[cnt, '# missing values'] = 0\n",
    "        df_cols.loc[cnt, '% missing values'] = '0.0%'\n",
    "    df_cols.loc[cnt, 'base type'] = ','.join(list(dtype_dic.keys()))\n",
    "    df_cols.loc[cnt, 'semantic type'] = ','.join(list(stype_dic.keys()))\n",
    "    df_cols.loc[cnt, '# valid'] = label_dic['VALID'] if 'VALID' in label_dic else 0\n",
    "    df_cols.loc[cnt, '# null'] = label_dic['NULL'] if 'NULL' in label_dic else 0\n",
    "    df_cols.loc[cnt, '# invalid'] = label_dic['INVALID'] if 'INVALID' in label_dic else 0\n",
    "    cnt = cnt + 1\n",
    "    #print(file)"
   ]
  },
  {
   "cell_type": "code",
   "execution_count": 4,
   "metadata": {
    "collapsed": false,
    "deletable": true,
    "editable": true
   },
   "outputs": [
    {
     "data": {
      "text/html": [
       "<div>\n",
       "<table border=\"1\" class=\"dataframe\">\n",
       "  <thead>\n",
       "    <tr style=\"text-align: right;\">\n",
       "      <th></th>\n",
       "      <th>col_name</th>\n",
       "      <th># unique values</th>\n",
       "      <th># missing values</th>\n",
       "      <th>% missing values</th>\n",
       "      <th>base type</th>\n",
       "      <th>semantic type</th>\n",
       "      <th># valid</th>\n",
       "      <th># null</th>\n",
       "      <th># invalid</th>\n",
       "    </tr>\n",
       "  </thead>\n",
       "  <tbody>\n",
       "    <tr>\n",
       "      <th>0</th>\n",
       "      <td>ADDR_PCT_CD</td>\n",
       "      <td>78</td>\n",
       "      <td>390</td>\n",
       "      <td>0.01%</td>\n",
       "      <td>int,string</td>\n",
       "      <td>precinct</td>\n",
       "      <td>5100832</td>\n",
       "      <td>390</td>\n",
       "      <td>0</td>\n",
       "    </tr>\n",
       "    <tr>\n",
       "      <th>1</th>\n",
       "      <td>BORO_NM</td>\n",
       "      <td>6</td>\n",
       "      <td>463</td>\n",
       "      <td>0.01%</td>\n",
       "      <td>string</td>\n",
       "      <td>borough</td>\n",
       "      <td>5100759</td>\n",
       "      <td>463</td>\n",
       "      <td>0</td>\n",
       "    </tr>\n",
       "    <tr>\n",
       "      <th>2</th>\n",
       "      <td>CMPLNT_FR_DT</td>\n",
       "      <td>6372</td>\n",
       "      <td>655</td>\n",
       "      <td>0.01%</td>\n",
       "      <td>datetime,string</td>\n",
       "      <td>date</td>\n",
       "      <td>5081785</td>\n",
       "      <td>655</td>\n",
       "      <td>18782</td>\n",
       "    </tr>\n",
       "    <tr>\n",
       "      <th>3</th>\n",
       "      <td>CMPLNT_FR_TM</td>\n",
       "      <td>1443</td>\n",
       "      <td>48</td>\n",
       "      <td>0.0%</td>\n",
       "      <td>timestamp,string</td>\n",
       "      <td>time</td>\n",
       "      <td>5100271</td>\n",
       "      <td>48</td>\n",
       "      <td>903</td>\n",
       "    </tr>\n",
       "    <tr>\n",
       "      <th>4</th>\n",
       "      <td>CMPLNT_TO_DT</td>\n",
       "      <td>4828</td>\n",
       "      <td>1391476</td>\n",
       "      <td>27.28%</td>\n",
       "      <td>datetime,string</td>\n",
       "      <td>date</td>\n",
       "      <td>3704859</td>\n",
       "      <td>1391476</td>\n",
       "      <td>4887</td>\n",
       "    </tr>\n",
       "    <tr>\n",
       "      <th>5</th>\n",
       "      <td>CMPLNT_TO_TM</td>\n",
       "      <td>1442</td>\n",
       "      <td>1387783</td>\n",
       "      <td>27.2%</td>\n",
       "      <td>timestamp,string</td>\n",
       "      <td>time</td>\n",
       "      <td>3712063</td>\n",
       "      <td>1387783</td>\n",
       "      <td>1376</td>\n",
       "    </tr>\n",
       "    <tr>\n",
       "      <th>6</th>\n",
       "      <td>CRM_ATPT_CPTD_CD</td>\n",
       "      <td>3</td>\n",
       "      <td>7</td>\n",
       "      <td>0.0%</td>\n",
       "      <td>string</td>\n",
       "      <td>flag</td>\n",
       "      <td>5101215</td>\n",
       "      <td>7</td>\n",
       "      <td>0</td>\n",
       "    </tr>\n",
       "    <tr>\n",
       "      <th>7</th>\n",
       "      <td>HADEVELOPT</td>\n",
       "      <td>279</td>\n",
       "      <td>4848018</td>\n",
       "      <td>95.04%</td>\n",
       "      <td>string</td>\n",
       "      <td>address</td>\n",
       "      <td>253204</td>\n",
       "      <td>4848018</td>\n",
       "      <td>0</td>\n",
       "    </tr>\n",
       "    <tr>\n",
       "      <th>8</th>\n",
       "      <td>JURIS_DESC</td>\n",
       "      <td>25</td>\n",
       "      <td>0</td>\n",
       "      <td>0.0%</td>\n",
       "      <td>string</td>\n",
       "      <td>jurisdiction</td>\n",
       "      <td>5101222</td>\n",
       "      <td>0</td>\n",
       "      <td>0</td>\n",
       "    </tr>\n",
       "    <tr>\n",
       "      <th>9</th>\n",
       "      <td>KY_CD</td>\n",
       "      <td>74</td>\n",
       "      <td>0</td>\n",
       "      <td>0.0%</td>\n",
       "      <td>int</td>\n",
       "      <td>code</td>\n",
       "      <td>5101222</td>\n",
       "      <td>0</td>\n",
       "      <td>0</td>\n",
       "    </tr>\n",
       "    <tr>\n",
       "      <th>10</th>\n",
       "      <td>Lat_Lon</td>\n",
       "      <td>112827</td>\n",
       "      <td>188146</td>\n",
       "      <td>3.69%</td>\n",
       "      <td>string</td>\n",
       "      <td>coordinate</td>\n",
       "      <td>4913076</td>\n",
       "      <td>188146</td>\n",
       "      <td>0</td>\n",
       "    </tr>\n",
       "    <tr>\n",
       "      <th>11</th>\n",
       "      <td>Latitude</td>\n",
       "      <td>112804</td>\n",
       "      <td>188146</td>\n",
       "      <td>3.69%</td>\n",
       "      <td>float,string</td>\n",
       "      <td>latitude</td>\n",
       "      <td>4913076</td>\n",
       "      <td>188146</td>\n",
       "      <td>0</td>\n",
       "    </tr>\n",
       "    <tr>\n",
       "      <th>12</th>\n",
       "      <td>LAW_CAT_CD</td>\n",
       "      <td>3</td>\n",
       "      <td>0</td>\n",
       "      <td>0.0%</td>\n",
       "      <td>string</td>\n",
       "      <td>code</td>\n",
       "      <td>5101222</td>\n",
       "      <td>0</td>\n",
       "      <td>0</td>\n",
       "    </tr>\n",
       "    <tr>\n",
       "      <th>13</th>\n",
       "      <td>LOC_OF_OCCUR_DESC</td>\n",
       "      <td>6</td>\n",
       "      <td>1127339</td>\n",
       "      <td>22.1%</td>\n",
       "      <td>string</td>\n",
       "      <td>description</td>\n",
       "      <td>3973883</td>\n",
       "      <td>1127339</td>\n",
       "      <td>0</td>\n",
       "    </tr>\n",
       "    <tr>\n",
       "      <th>14</th>\n",
       "      <td>Longitude</td>\n",
       "      <td>112808</td>\n",
       "      <td>188146</td>\n",
       "      <td>3.69%</td>\n",
       "      <td>float,string</td>\n",
       "      <td>longitude</td>\n",
       "      <td>4686718</td>\n",
       "      <td>188146</td>\n",
       "      <td>226358</td>\n",
       "    </tr>\n",
       "    <tr>\n",
       "      <th>15</th>\n",
       "      <td>OFNS_DESC</td>\n",
       "      <td>71</td>\n",
       "      <td>18840</td>\n",
       "      <td>0.37%</td>\n",
       "      <td>string</td>\n",
       "      <td>description</td>\n",
       "      <td>5082382</td>\n",
       "      <td>18840</td>\n",
       "      <td>0</td>\n",
       "    </tr>\n",
       "    <tr>\n",
       "      <th>16</th>\n",
       "      <td>PARKS_NM</td>\n",
       "      <td>864</td>\n",
       "      <td>5093623</td>\n",
       "      <td>99.85%</td>\n",
       "      <td>string</td>\n",
       "      <td>name</td>\n",
       "      <td>7599</td>\n",
       "      <td>5093623</td>\n",
       "      <td>0</td>\n",
       "    </tr>\n",
       "    <tr>\n",
       "      <th>17</th>\n",
       "      <td>PD_CD</td>\n",
       "      <td>416</td>\n",
       "      <td>4574</td>\n",
       "      <td>0.09%</td>\n",
       "      <td>int,string</td>\n",
       "      <td>code</td>\n",
       "      <td>5096648</td>\n",
       "      <td>4574</td>\n",
       "      <td>0</td>\n",
       "    </tr>\n",
       "    <tr>\n",
       "      <th>18</th>\n",
       "      <td>PD_DESC</td>\n",
       "      <td>404</td>\n",
       "      <td>4574</td>\n",
       "      <td>0.09%</td>\n",
       "      <td>string</td>\n",
       "      <td>description</td>\n",
       "      <td>5096648</td>\n",
       "      <td>4574</td>\n",
       "      <td>0</td>\n",
       "    </tr>\n",
       "    <tr>\n",
       "      <th>19</th>\n",
       "      <td>PREM_TYP_DESC</td>\n",
       "      <td>71</td>\n",
       "      <td>33278</td>\n",
       "      <td>0.65%</td>\n",
       "      <td>string</td>\n",
       "      <td>description</td>\n",
       "      <td>5067944</td>\n",
       "      <td>33278</td>\n",
       "      <td>0</td>\n",
       "    </tr>\n",
       "    <tr>\n",
       "      <th>20</th>\n",
       "      <td>RPT_DT</td>\n",
       "      <td>3652</td>\n",
       "      <td>0</td>\n",
       "      <td>0.0%</td>\n",
       "      <td>datetime</td>\n",
       "      <td>date</td>\n",
       "      <td>5101222</td>\n",
       "      <td>0</td>\n",
       "      <td>0</td>\n",
       "    </tr>\n",
       "    <tr>\n",
       "      <th>21</th>\n",
       "      <td>X_COORD_CD</td>\n",
       "      <td>69533</td>\n",
       "      <td>188146</td>\n",
       "      <td>3.69%</td>\n",
       "      <td>int,string</td>\n",
       "      <td>coordinate</td>\n",
       "      <td>4684320</td>\n",
       "      <td>188146</td>\n",
       "      <td>228756</td>\n",
       "    </tr>\n",
       "    <tr>\n",
       "      <th>22</th>\n",
       "      <td>Y_COORD_CD</td>\n",
       "      <td>72317</td>\n",
       "      <td>188146</td>\n",
       "      <td>3.69%</td>\n",
       "      <td>int,string</td>\n",
       "      <td>coordinate</td>\n",
       "      <td>4913076</td>\n",
       "      <td>188146</td>\n",
       "      <td>0</td>\n",
       "    </tr>\n",
       "  </tbody>\n",
       "</table>\n",
       "</div>"
      ],
      "text/plain": [
       "             col_name # unique values # missing values % missing values  \\\n",
       "0         ADDR_PCT_CD              78              390            0.01%   \n",
       "1             BORO_NM               6              463            0.01%   \n",
       "2        CMPLNT_FR_DT            6372              655            0.01%   \n",
       "3        CMPLNT_FR_TM            1443               48             0.0%   \n",
       "4        CMPLNT_TO_DT            4828          1391476           27.28%   \n",
       "5        CMPLNT_TO_TM            1442          1387783            27.2%   \n",
       "6    CRM_ATPT_CPTD_CD               3                7             0.0%   \n",
       "7          HADEVELOPT             279          4848018           95.04%   \n",
       "8          JURIS_DESC              25                0             0.0%   \n",
       "9               KY_CD              74                0             0.0%   \n",
       "10            Lat_Lon          112827           188146            3.69%   \n",
       "11           Latitude          112804           188146            3.69%   \n",
       "12         LAW_CAT_CD               3                0             0.0%   \n",
       "13  LOC_OF_OCCUR_DESC               6          1127339            22.1%   \n",
       "14          Longitude          112808           188146            3.69%   \n",
       "15          OFNS_DESC              71            18840            0.37%   \n",
       "16           PARKS_NM             864          5093623           99.85%   \n",
       "17              PD_CD             416             4574            0.09%   \n",
       "18            PD_DESC             404             4574            0.09%   \n",
       "19      PREM_TYP_DESC              71            33278            0.65%   \n",
       "20             RPT_DT            3652                0             0.0%   \n",
       "21         X_COORD_CD           69533           188146            3.69%   \n",
       "22         Y_COORD_CD           72317           188146            3.69%   \n",
       "\n",
       "           base type semantic type  # valid   # null # invalid  \n",
       "0         int,string      precinct  5100832      390         0  \n",
       "1             string       borough  5100759      463         0  \n",
       "2    datetime,string          date  5081785      655     18782  \n",
       "3   timestamp,string          time  5100271       48       903  \n",
       "4    datetime,string          date  3704859  1391476      4887  \n",
       "5   timestamp,string          time  3712063  1387783      1376  \n",
       "6             string          flag  5101215        7         0  \n",
       "7             string       address   253204  4848018         0  \n",
       "8             string  jurisdiction  5101222        0         0  \n",
       "9                int          code  5101222        0         0  \n",
       "10            string    coordinate  4913076   188146         0  \n",
       "11      float,string      latitude  4913076   188146         0  \n",
       "12            string          code  5101222        0         0  \n",
       "13            string   description  3973883  1127339         0  \n",
       "14      float,string     longitude  4686718   188146    226358  \n",
       "15            string   description  5082382    18840         0  \n",
       "16            string          name     7599  5093623         0  \n",
       "17        int,string          code  5096648     4574         0  \n",
       "18            string   description  5096648     4574         0  \n",
       "19            string   description  5067944    33278         0  \n",
       "20          datetime          date  5101222        0         0  \n",
       "21        int,string    coordinate  4684320   188146    228756  \n",
       "22        int,string    coordinate  4913076   188146         0  "
      ]
     },
     "execution_count": 4,
     "metadata": {},
     "output_type": "execute_result"
    }
   ],
   "source": [
    "df_cols"
   ]
  },
  {
   "cell_type": "code",
   "execution_count": 65,
   "metadata": {
    "collapsed": false,
    "deletable": true,
    "editable": true
   },
   "outputs": [],
   "source": [
    "value_dic, dtype_dic, stype_dic, label_dic = readDict('./output/CMPLNT_FR_DT.out', '\\t')\n",
    "del value_dic['NULL']\n",
    "# Use this line if you want to see outliers\n",
    "#dates = {datetime.datetime.strptime(k, '%m/%d/%Y'):int(v) for k,v in value_dic.items()}\n",
    "# Use this line if you want to remove outliers\n",
    "dates = {datetime.datetime.strptime(k, '%m/%d/%Y'):int(v) for k,v in value_dic.items() if k[-4:] != '1015'}\n",
    "x = sorted(dates)\n",
    "y = [dates[k] for k in sorted(dates)]\n",
    "fr_dt_df = pd.DataFrame(columns = ['date','count'])\n",
    "fr_dt_df['date'] = x\n",
    "fr_dt_df['count'] = y"
   ]
  },
  {
   "cell_type": "code",
   "execution_count": 66,
   "metadata": {
    "collapsed": false,
    "deletable": true,
    "editable": true
   },
   "outputs": [
    {
     "data": {
      "text/html": [
       "<div>\n",
       "<table border=\"1\" class=\"dataframe\">\n",
       "  <thead>\n",
       "    <tr style=\"text-align: right;\">\n",
       "      <th></th>\n",
       "      <th>date</th>\n",
       "      <th>count</th>\n",
       "    </tr>\n",
       "  </thead>\n",
       "  <tbody>\n",
       "    <tr>\n",
       "      <th>0</th>\n",
       "      <td>1900-03-10</td>\n",
       "      <td>1</td>\n",
       "    </tr>\n",
       "    <tr>\n",
       "      <th>1</th>\n",
       "      <td>1900-05-08</td>\n",
       "      <td>1</td>\n",
       "    </tr>\n",
       "    <tr>\n",
       "      <th>2</th>\n",
       "      <td>1900-08-06</td>\n",
       "      <td>1</td>\n",
       "    </tr>\n",
       "    <tr>\n",
       "      <th>3</th>\n",
       "      <td>1900-08-07</td>\n",
       "      <td>1</td>\n",
       "    </tr>\n",
       "    <tr>\n",
       "      <th>4</th>\n",
       "      <td>1900-11-26</td>\n",
       "      <td>1</td>\n",
       "    </tr>\n",
       "    <tr>\n",
       "      <th>5</th>\n",
       "      <td>1905-07-15</td>\n",
       "      <td>1</td>\n",
       "    </tr>\n",
       "    <tr>\n",
       "      <th>6</th>\n",
       "      <td>1905-10-20</td>\n",
       "      <td>1</td>\n",
       "    </tr>\n",
       "    <tr>\n",
       "      <th>7</th>\n",
       "      <td>1906-11-20</td>\n",
       "      <td>1</td>\n",
       "    </tr>\n",
       "  </tbody>\n",
       "</table>\n",
       "</div>"
      ],
      "text/plain": [
       "        date  count\n",
       "0 1900-03-10      1\n",
       "1 1900-05-08      1\n",
       "2 1900-08-06      1\n",
       "3 1900-08-07      1\n",
       "4 1900-11-26      1\n",
       "5 1905-07-15      1\n",
       "6 1905-10-20      1\n",
       "7 1906-11-20      1"
      ]
     },
     "execution_count": 66,
     "metadata": {},
     "output_type": "execute_result"
    }
   ],
   "source": [
    "fr_dt_df.head(8)"
   ]
  },
  {
   "cell_type": "code",
   "execution_count": 68,
   "metadata": {
    "collapsed": false,
    "deletable": true,
    "editable": true
   },
   "outputs": [
    {
     "data": {
      "image/png": "[encoded data removed]",
      "text/plain": [
       "<matplotlib.figure.Figure at 0x112cc3518>"
      ]
     },
     "metadata": {},
     "output_type": "display_data"
    }
   ],
   "source": [
    "pd.to_datetime(fr_dt_df['date'])\n",
    "f = fr_dt_df.groupby(fr_dt_df[\"date\"].dt.year).count().plot(kind=\"bar\",rot = 90,y='count',figsize=(20,6),fontsize=12)\n",
    "f.set_ylabel('count', fontsize=30)\n",
    "f.set_xlabel(' ', fontsize=20)\n",
    "plt.legend(prop={'size':20})\n",
    "fig = f.get_figure()\n",
    "fig.savefig('fr_date_count.jpg',dpi=300)"
   ]
  },
  {
   "cell_type": "code",
   "execution_count": 8,
   "metadata": {
    "collapsed": false,
    "deletable": true,
    "editable": true
   },
   "outputs": [],
   "source": [
    "#fr_dt_df_small = fr_dt_df.iloc[]\n",
    "fr_dt_df_small = fr_dt_df.iloc[818:,:]"
   ]
  },
  {
   "cell_type": "code",
   "execution_count": 9,
   "metadata": {
    "collapsed": false,
    "deletable": true,
    "editable": true
   },
   "outputs": [
    {
     "data": {
      "image/png": "[encoded data removed]",
      "text/plain": [
       "<matplotlib.figure.Figure at 0x112c695c0>"
      ]
     },
     "metadata": {},
     "output_type": "display_data"
    }
   ],
   "source": [
    "pd.to_datetime(fr_dt_df['date'])\n",
    "f = fr_dt_df_small.groupby(fr_dt_df[\"date\"].dt.year).sum().plot(kind=\"bar\",rot = 90,y='count_from',figsize=(20,6),fontsize=13)\n",
    "f.set_ylabel('count', fontsize=20)\n",
    "f.set_xlabel(' ', fontsize=20)\n",
    "fig = f.get_figure()\n",
    "fig.savefig('fr_date_sum.jpg')"
   ]
  },
  {
   "cell_type": "code",
   "execution_count": 62,
   "metadata": {
    "collapsed": false,
    "deletable": true,
    "editable": true
   },
   "outputs": [
    {
     "data": {
      "image/png": "[encoded data removed]",
      "text/plain": [
       "<matplotlib.figure.Figure at 0x112c66630>"
      ]
     },
     "metadata": {},
     "output_type": "display_data"
    }
   ],
   "source": [
    "value_dic, dtype_dic, stype_dic, label_dic = readDict('./output/CMPLNT_TO_DT.out', '\\t')\n",
    "del value_dic['NULL']\n",
    "# USe this line to see outliers\n",
    "#dates = {datetime.datetime.strptime(k, '%m/%d/%Y'):int(v) for k,v in value_dic.items()}\n",
    "# USe this line to remove outliers\n",
    "dates = {datetime.datetime.strptime(k, '%m/%d/%Y'):int(v) for k,v in value_dic.items() if k[-4:]!='2090'}\n",
    "x = sorted(dates)\n",
    "y = [dates[k] for k in sorted(dates)]\n",
    "to_dt_df = pd.DataFrame(columns = ['date','count'])\n",
    "to_dt_df['date'] = x\n",
    "to_dt_df['count'] = y\n",
    "pd.to_datetime(to_dt_df['date'])\n",
    "f = to_dt_df.groupby(to_dt_df[\"date\"].dt.year).count().plot(kind=\"bar\",rot = 90,y='count',figsize=(20,6),fontsize=20)\n",
    "f.set_ylabel('count', fontsize=30)\n",
    "f.set_xlabel(' ', fontsize=20)\n",
    "plt.legend(prop={'size':20})\n",
    "fig = f.get_figure()\n",
    "fig.savefig('to_date_count.jpg',dpi=300)"
   ]
  },
  {
   "cell_type": "code",
   "execution_count": 11,
   "metadata": {
    "collapsed": false,
    "deletable": true,
    "editable": true
   },
   "outputs": [
    {
     "data": {
      "text/html": [
       "<div>\n",
       "<table border=\"1\" class=\"dataframe\">\n",
       "  <thead>\n",
       "    <tr style=\"text-align: right;\">\n",
       "      <th></th>\n",
       "      <th>date</th>\n",
       "      <th>count</th>\n",
       "    </tr>\n",
       "  </thead>\n",
       "  <tbody>\n",
       "    <tr>\n",
       "      <th>4818</th>\n",
       "      <td>2015-12-27</td>\n",
       "      <td>945</td>\n",
       "    </tr>\n",
       "    <tr>\n",
       "      <th>4819</th>\n",
       "      <td>2015-12-28</td>\n",
       "      <td>912</td>\n",
       "    </tr>\n",
       "    <tr>\n",
       "      <th>4820</th>\n",
       "      <td>2015-12-29</td>\n",
       "      <td>831</td>\n",
       "    </tr>\n",
       "    <tr>\n",
       "      <th>4821</th>\n",
       "      <td>2015-12-30</td>\n",
       "      <td>882</td>\n",
       "    </tr>\n",
       "    <tr>\n",
       "      <th>4822</th>\n",
       "      <td>2015-12-31</td>\n",
       "      <td>722</td>\n",
       "    </tr>\n",
       "    <tr>\n",
       "      <th>4823</th>\n",
       "      <td>2016-01-02</td>\n",
       "      <td>1</td>\n",
       "    </tr>\n",
       "    <tr>\n",
       "      <th>4824</th>\n",
       "      <td>2016-01-11</td>\n",
       "      <td>1</td>\n",
       "    </tr>\n",
       "    <tr>\n",
       "      <th>4825</th>\n",
       "      <td>2016-03-02</td>\n",
       "      <td>1</td>\n",
       "    </tr>\n",
       "  </tbody>\n",
       "</table>\n",
       "</div>"
      ],
      "text/plain": [
       "           date  count\n",
       "4818 2015-12-27    945\n",
       "4819 2015-12-28    912\n",
       "4820 2015-12-29    831\n",
       "4821 2015-12-30    882\n",
       "4822 2015-12-31    722\n",
       "4823 2016-01-02      1\n",
       "4824 2016-01-11      1\n",
       "4825 2016-03-02      1"
      ]
     },
     "execution_count": 11,
     "metadata": {},
     "output_type": "execute_result"
    }
   ],
   "source": [
    "to_dt_df.tail(8)"
   ]
  },
  {
   "cell_type": "code",
   "execution_count": 61,
   "metadata": {
    "collapsed": false,
    "deletable": true,
    "editable": true
   },
   "outputs": [
    {
     "data": {
      "image/png": "[encoded data removed]",
      "text/plain": [
       "<matplotlib.figure.Figure at 0x1139aad68>"
      ]
     },
     "metadata": {},
     "output_type": "display_data"
    }
   ],
   "source": [
    "fr_dt_df_small = fr_dt_df[2713:]\n",
    "to_dt_df_small = to_dt_df[1171:4823]\n",
    "df1 = fr_dt_df_small.groupby(fr_dt_df[\"date\"].dt.year).sum().reset_index()\n",
    "df2 = to_dt_df_small.groupby(to_dt_df[\"date\"].dt.year).sum().reset_index()\n",
    "df_merge = df1.merge(df2, how='outer', on='date')\n",
    "df_merge = df_merge.fillna(0)\n",
    "fig = plt.figure(figsize=(20,6)) # Create matplotlib figure\n",
    "ax = fig.add_subplot(111) # Create matplotlib axes\n",
    "width = 0.4\n",
    "b1 = df_merge.plot(kind=\"bar\",color='red',y='count_from', ax=ax, width=width, position=1,fontsize=20,label='CMPLNT_FR_DT')\n",
    "b2 = df_merge.plot(kind=\"bar\",color='blue',y='count', ax=ax, width=width, position=0,fontsize=20,label='CMPLNT_TO_DT')\n",
    "b1.set_ylabel('count', fontsize=30)\n",
    "ax.legend()\n",
    "ax.set_xticklabels(np.arange(2006,2016))\n",
    "plt.legend(prop={'size':15})\n",
    "plt.show()\n",
    "fig.savefig('dt_bar.jpg',dpi=300)"
   ]
  },
  {
   "cell_type": "code",
   "execution_count": 59,
   "metadata": {
    "collapsed": false,
    "deletable": true,
    "editable": true
   },
   "outputs": [
    {
     "data": {
      "image/png": "[encoded data removed]",
      "text/plain": [
       "<matplotlib.figure.Figure at 0x113555278>"
      ]
     },
     "metadata": {},
     "output_type": "display_data"
    }
   ],
   "source": [
    "value_dic, dtype_dic, stype_dic, label_dic = readDict('./output/RPT_DT.out', '\\t')\n",
    "#del value_dic['NULL']\n",
    "# USe this line to see outliers\n",
    "dates = {datetime.datetime.strptime(k, '%m/%d/%Y'):int(v) for k,v in value_dic.items()}\n",
    "# USe this line to remove outliers\n",
    "#dates = {datetime.datetime.strptime(k, '%m/%d/%Y'):int(v) for k,v in value_dic.items() if k[-4:]!='2090'}\n",
    "x = sorted(dates)\n",
    "y = [dates[k] for k in sorted(dates)]\n",
    "datedf = pd.DataFrame(columns = ['date','count'])\n",
    "datedf['date'] = x\n",
    "datedf['count'] = y\n",
    "pd.to_datetime(datedf['date'])\n",
    "f = datedf.groupby(datedf[\"date\"].dt.year).sum().plot(kind=\"bar\",rot = 90,y='count',figsize=(20,6),fontsize=20)\n",
    "f.set_ylabel('count', fontsize=30)\n",
    "f.set_xlabel(' ', fontsize=20)\n",
    "fig = f.get_figure()\n",
    "plt.legend(prop={'size':20})\n",
    "fig.savefig('rpt_date_sum.jpg',dpi=500)"
   ]
  },
  {
   "cell_type": "code",
   "execution_count": 14,
   "metadata": {
    "collapsed": false,
    "deletable": true,
    "editable": true
   },
   "outputs": [
    {
     "data": {
      "image/png": "[encoded data removed]",
      "text/plain": [
       "<matplotlib.figure.Figure at 0x114c9f908>"
      ]
     },
     "metadata": {},
     "output_type": "display_data"
    }
   ],
   "source": [
    "value_dic, dtype_dic, stype_dic, label_dic = readDict('./output/CMPLNT_FR_TM.out', '\\t')\n",
    "value_dic['00:00:00'] = value_dic['00:00:00'] + value_dic['24:00:00']\n",
    "del value_dic['24:00:00']\n",
    "del value_dic['NULL']\n",
    "times = {datetime.datetime.strptime(k, '%H:%M:%S'):int(v) for k,v in value_dic.items()}\n",
    "x = sorted(times)\n",
    "y = [times[k] for k in sorted(times)]\n",
    "timedf1 = pd.DataFrame(columns = ['time','count'])\n",
    "timedf1['time'] = x\n",
    "timedf1['count'] = y\n",
    "pd.to_datetime(timedf1['time'])\n",
    "f = timedf1.groupby(timedf1[\"time\"].dt.hour).sum().plot(kind=\"bar\",rot = 90,y='count',figsize=(20,6),fontsize=13)\n",
    "f.set_ylabel('count', fontsize=20)\n",
    "f.set_xlabel(' ', fontsize=20)\n",
    "fig = f.get_figure()\n",
    "fig.savefig('fr_time_sum.jpg')"
   ]
  },
  {
   "cell_type": "code",
   "execution_count": 15,
   "metadata": {
    "collapsed": false,
    "deletable": true,
    "editable": true
   },
   "outputs": [
    {
     "data": {
      "image/png": "[encoded data removed]",
      "text/plain": [
       "<matplotlib.figure.Figure at 0x113571208>"
      ]
     },
     "metadata": {},
     "output_type": "display_data"
    }
   ],
   "source": [
    "value_dic, dtype_dic, stype_dic, label_dic = readDict('./output/CMPLNT_TO_TM.out', '\\t')\n",
    "value_dic['00:00:00'] = value_dic['00:00:00'] + value_dic['24:00:00']\n",
    "del value_dic['24:00:00']\n",
    "del value_dic['NULL']\n",
    "times = {datetime.datetime.strptime(k, '%H:%M:%S'):int(v) for k,v in value_dic.items()}\n",
    "x = sorted(times)\n",
    "y = [times[k] for k in sorted(times)]\n",
    "timedf = pd.DataFrame(columns = ['time','count_to'])\n",
    "timedf['time'] = x\n",
    "timedf['count_to'] = y\n",
    "pd.to_datetime(timedf['time'])\n",
    "f = timedf.groupby(timedf[\"time\"].dt.hour).sum().plot(kind=\"bar\",rot = 90,y='count_to',figsize=(20,6),fontsize=13)\n",
    "f.set_ylabel('count', fontsize=20)\n",
    "f.set_xlabel(' ', fontsize=20)\n",
    "fig = f.get_figure()\n",
    "fig.savefig('to_time_sum.jpg')"
   ]
  },
  {
   "cell_type": "code",
   "execution_count": 56,
   "metadata": {
    "collapsed": false,
    "deletable": true,
    "editable": true,
    "scrolled": true
   },
   "outputs": [
    {
     "data": {
      "image/png": "[encoded data removed]",
      "text/plain": [
       "<matplotlib.figure.Figure at 0x113f9a0b8>"
      ]
     },
     "metadata": {},
     "output_type": "display_data"
    }
   ],
   "source": [
    "df1 = timedf1.groupby(timedf1[\"time\"].dt.hour).sum().reset_index()\n",
    "df2 = timedf.groupby(timedf[\"time\"].dt.hour).sum().reset_index()\n",
    "df_merge = df1.merge(df2, how='left', on='time')\n",
    "fig = plt.figure(figsize=(20,6)) # Create matplotlib figure\n",
    "ax = fig.add_subplot(111) # Create matplotlib axes\n",
    "width = 0.4\n",
    "\n",
    "b1 = df_merge.plot(kind=\"bar\",color='red',y='count_to', ax=ax, width=width, position=1,fontsize=20,label='CMPLNT_TO_TM')\n",
    "b2 = df_merge.plot(kind=\"bar\",color='blue',y='count', ax=ax, width=width, position=0,fontsize=20,label='CMPLNT_FR_TM')\n",
    "b1.set_ylabel('count', fontsize=30)\n",
    "ax.legend()\n",
    "plt.legend(prop={'size':20})\n",
    "plt.show()\n",
    "fig.savefig('tm_bar.jpg',dpi=500)"
   ]
  },
  {
   "cell_type": "code",
   "execution_count": 17,
   "metadata": {
    "collapsed": false,
    "deletable": true,
    "editable": true
   },
   "outputs": [],
   "source": [
    "value_dic1, dtype_dic, stype_dic, label_dic = readDict('./output/KY_CD.out', '\\t')\n",
    "l1 = sorted(value_dic1.items(), key=lambda x: x[1], reverse=True)[:10]\n",
    "value_dic2, dtype_dic, stype_dic, label_dic = readDict('./output/PD_CD.out', '\\t')\n",
    "l2 = sorted(value_dic2.items(), key=lambda x: x[1], reverse=True)[:10]"
   ]
  },
  {
   "cell_type": "code",
   "execution_count": 18,
   "metadata": {
    "collapsed": false,
    "deletable": true,
    "editable": true
   },
   "outputs": [],
   "source": [
    "ky_key = [i[0] for i in l1]\n",
    "ky_val = [int(value_dic1[k]) for k in ky_key]\n",
    "pd_key = [i[0] for i in l2]\n",
    "pd_val = [int(value_dic2[k]) for k in pd_key]"
   ]
  },
  {
   "cell_type": "code",
   "execution_count": 19,
   "metadata": {
    "collapsed": false,
    "deletable": true,
    "editable": true
   },
   "outputs": [
    {
     "data": {
      "image/png": "[encoded data removed]",
      "text/plain": [
       "<matplotlib.figure.Figure at 0x11443e7b8>"
      ]
     },
     "metadata": {},
     "output_type": "display_data"
    }
   ],
   "source": [
    "fig, ax = plt.subplots(figsize=(20,8))\n",
    "width = 0.35 \n",
    "plt.bar(range(10),ky_val,width,color='red')\n",
    "ax.set_ylabel('Counts', fontsize=20)\n",
    "plt.xticks(range(10),ky_key)\n",
    "plt.tick_params(labelsize=20)\n",
    "fig.savefig('top10kycd.jpg')"
   ]
  },
  {
   "cell_type": "code",
   "execution_count": 20,
   "metadata": {
    "collapsed": false,
    "deletable": true,
    "editable": true
   },
   "outputs": [
    {
     "data": {
      "image/png": "[encoded data removed]",
      "text/plain": [
       "<matplotlib.figure.Figure at 0x113fcec88>"
      ]
     },
     "metadata": {},
     "output_type": "display_data"
    }
   ],
   "source": [
    "fig, ax = plt.subplots(figsize=(20,8))\n",
    "width = 0.35 \n",
    "plt.bar(range(10),pd_val,width,color='blue')\n",
    "ax.set_ylabel('Counts', fontsize=20)\n",
    "plt.xticks(range(10),pd_key)\n",
    "plt.tick_params(labelsize=20)\n",
    "fig.savefig('top10pdcd.jpg')"
   ]
  },
  {
   "cell_type": "code",
   "execution_count": 25,
   "metadata": {
    "collapsed": false,
    "deletable": true,
    "editable": true
   },
   "outputs": [
    {
     "data": {
      "image/png": "[encoded data removed]",
      "text/plain": [
       "<matplotlib.figure.Figure at 0x114b37f28>"
      ]
     },
     "metadata": {},
     "output_type": "display_data"
    }
   ],
   "source": [
    "value_dic, dtype_dic, stype_dic, label_dic = readDict('./output/LAW_CAT_CD.out', '\\t')\n",
    "l1 = sorted(value_dic.items(), key=lambda x: x[1], reverse=True)\n",
    "x = [i[0] for i in l1]\n",
    "y = [i[1] for i in l1]\n",
    "labels = x\n",
    "sizes = y\n",
    "colors = ['gold', 'yellowgreen', 'lightcoral']\n",
    "explode = (0, 0, 0)  # explode 1st slice\n",
    " \n",
    "# Plot\n",
    "plt.pie(sizes, explode=explode, labels=labels, colors=colors,\n",
    "        autopct='%1.1f%%', shadow=True, startangle=140)\n",
    " \n",
    "plt.axis('equal')\n",
    "plt.savefig('LAWPie.jpg')"
   ]
  },
  {
   "cell_type": "code",
   "execution_count": 44,
   "metadata": {
    "collapsed": false,
    "deletable": true,
    "editable": true
   },
   "outputs": [
    {
     "data": {
      "image/png": "[encoded data removed]",
      "text/plain": [
       "<matplotlib.figure.Figure at 0x117921a58>"
      ]
     },
     "metadata": {},
     "output_type": "display_data"
    }
   ],
   "source": [
    "f = plt.figure()\n",
    "value_dic, dtype_dic, stype_dic, label_dic = readDict('./output/JURIS_DESC.out', '\\t')\n",
    "l1 = sorted(value_dic.items(), key=lambda x: x[1], reverse=True)\n",
    "x = [i[0] for i in l1]\n",
    "y = [i[1] for i in l1]\n",
    "xx = x[:3]\n",
    "xx.append('Other')\n",
    "yy = y[:3]\n",
    "yy.append(sum([i for i in y[3:]]))\n",
    "labels = xx\n",
    "sizes = yy\n",
    "colors = ['yellowgreen', 'gold', 'lightskyblue', 'lightcoral']\n",
    "explode = (0, 0.1, 0.2, 0.3)\n",
    " \n",
    "# Plot\n",
    "plt.pie(sizes, explode=explode, colors=colors, autopct='%1d%%', shadow=True, startangle=180)\n",
    "plt.legend(labels, loc=\"best\")\n",
    " \n",
    "plt.axis('equal')\n",
    "f.savefig('JURISPie.jpg',dps=500)"
   ]
  },
  {
   "cell_type": "code",
   "execution_count": 565,
   "metadata": {
    "collapsed": false,
    "deletable": true,
    "editable": true
   },
   "outputs": [],
   "source": [
    "def dic2np(dic):\n",
    "    list_tmp = []\n",
    "    for k in value_dic:\n",
    "        for i in range(value_dic[k]):\n",
    "            list_tmp.append(float(k) if float(k) > 0 else -float(k))\n",
    "    return np.array(list_tmp)"
   ]
  },
  {
   "cell_type": "code",
   "execution_count": 626,
   "metadata": {
    "collapsed": false,
    "deletable": true,
    "editable": true
   },
   "outputs": [],
   "source": [
    "value_dic, dtype_dic, stype_dic, label_dic = readDict('./output/Longitude.out', '\\t')\n",
    "del value_dic['NULL']\n",
    "l1 = dic2np(value_dic)\n",
    "value_dic, dtype_dic, stype_dic, label_dic = readDict('./output/Latitude.out', '\\t')\n",
    "del value_dic['NULL']\n",
    "l2 = dic2np(value_dic)"
   ]
  },
  {
   "cell_type": "code",
   "execution_count": 627,
   "metadata": {
    "collapsed": false,
    "deletable": true,
    "editable": true,
    "scrolled": true
   },
   "outputs": [
    {
     "data": {
      "image/png": "[encoded data removed]",
      "text/plain": [
       "<matplotlib.figure.Figure at 0x1477c7668>"
      ]
     },
     "metadata": {},
     "output_type": "display_data"
    }
   ],
   "source": [
    "fig = plt.figure(figsize = (4,4))\n",
    "a = plt.boxplot(l1)\n",
    "fig.savefig('BoxLongi.jpg')"
   ]
  },
  {
   "cell_type": "code",
   "execution_count": 629,
   "metadata": {
    "collapsed": false,
    "deletable": true,
    "editable": true
   },
   "outputs": [
    {
     "data": {
      "text/plain": [
       "[73.751233647000006, 74.106266945000002]"
      ]
     },
     "execution_count": 629,
     "metadata": {},
     "output_type": "execute_result"
    }
   ],
   "source": [
    "[item.get_ydata()[1] for item in a['whiskers']]"
   ]
  },
  {
   "cell_type": "code",
   "execution_count": 610,
   "metadata": {
    "collapsed": false,
    "deletable": true,
    "editable": true
   },
   "outputs": [
    {
     "data": {
      "image/png": "[encoded data removed]",
      "text/plain": [
       "<matplotlib.figure.Figure at 0x128ed5710>"
      ]
     },
     "metadata": {},
     "output_type": "display_data"
    }
   ],
   "source": [
    "fig = plt.figure(figsize = (4,4))\n",
    "plt.boxplot(l2)\n",
    "fig.savefig('BoxLati.jpg')"
   ]
  },
  {
   "cell_type": "code",
   "execution_count": 613,
   "metadata": {
    "collapsed": false,
    "deletable": true,
    "editable": true
   },
   "outputs": [
    {
     "data": {
      "image/png": "[encoded data removed]",
      "text/plain": [
       "<matplotlib.figure.Figure at 0x14156de10>"
      ]
     },
     "metadata": {},
     "output_type": "display_data"
    }
   ],
   "source": [
    "fig = plt.figure(figsize = (4,4))\n",
    "plt.hist(l1,color='blue')\n",
    "fig.savefig('HistLongi.jpg')"
   ]
  },
  {
   "cell_type": "code",
   "execution_count": 614,
   "metadata": {
    "collapsed": false,
    "deletable": true,
    "editable": true
   },
   "outputs": [
    {
     "data": {
      "image/png": "[encoded data removed]",
      "text/plain": [
       "<matplotlib.figure.Figure at 0x13ea5c9b0>"
      ]
     },
     "metadata": {},
     "output_type": "display_data"
    }
   ],
   "source": [
    "fig = plt.figure(figsize = (4,4))\n",
    "plt.hist(l2,color='red')\n",
    "fig.savefig('HistLati.jpg')"
   ]
  },
  {
   "cell_type": "code",
   "execution_count": 623,
   "metadata": {
    "collapsed": false,
    "deletable": true,
    "editable": true
   },
   "outputs": [],
   "source": [
    "value_dic, dtype_dic, stype_dic, label_dic = readDict('./output/X_COORD_CD.out', '\\t')\n",
    "del value_dic['NULL']\n",
    "l1 = dic2np(value_dic)\n",
    "value_dic, dtype_dic, stype_dic, label_dic = readDict('./output/Y_COORD_CD.out', '\\t')\n",
    "del value_dic['NULL']\n",
    "l2 = dic2np(value_dic)"
   ]
  },
  {
   "cell_type": "code",
   "execution_count": 624,
   "metadata": {
    "collapsed": false,
    "deletable": true,
    "editable": true
   },
   "outputs": [
    {
     "data": {
      "image/png": "[encoded data removed]",
      "text/plain": [
       "<matplotlib.figure.Figure at 0x1287287b8>"
      ]
     },
     "metadata": {},
     "output_type": "display_data"
    }
   ],
   "source": [
    "fig = plt.figure(figsize = (4,4))\n",
    "a = plt.boxplot(l1)\n",
    "fig.savefig('BoxX.jpg')"
   ]
  },
  {
   "cell_type": "code",
   "execution_count": 625,
   "metadata": {
    "collapsed": false,
    "deletable": true,
    "editable": true
   },
   "outputs": [
    {
     "data": {
      "text/plain": [
       "[954846.0, 1053121.0]"
      ]
     },
     "execution_count": 625,
     "metadata": {},
     "output_type": "execute_result"
    }
   ],
   "source": [
    "[item.get_ydata()[1] for item in a['whiskers']]"
   ]
  },
  {
   "cell_type": "code",
   "execution_count": 605,
   "metadata": {
    "collapsed": false,
    "deletable": true,
    "editable": true
   },
   "outputs": [
    {
     "data": {
      "image/png": "[encoded data removed]",
      "text/plain": [
       "<matplotlib.figure.Figure at 0x128a7f208>"
      ]
     },
     "metadata": {},
     "output_type": "display_data"
    }
   ],
   "source": [
    "fig = plt.figure(figsize = (4,4))\n",
    "plt.boxplot(l2)\n",
    "fig.savefig('BoxY.jpg')"
   ]
  },
  {
   "cell_type": "code",
   "execution_count": 606,
   "metadata": {
    "collapsed": false,
    "deletable": true,
    "editable": true
   },
   "outputs": [
    {
     "data": {
      "image/png": "[encoded data removed]",
      "text/plain": [
       "<matplotlib.figure.Figure at 0x128aa4550>"
      ]
     },
     "metadata": {},
     "output_type": "display_data"
    }
   ],
   "source": [
    "fig = plt.figure(figsize = (4,4))\n",
    "plt.hist(l2)\n",
    "fig.savefig('HistY.jpg')"
   ]
  },
  {
   "cell_type": "code",
   "execution_count": 607,
   "metadata": {
    "collapsed": false,
    "deletable": true,
    "editable": true
   },
   "outputs": [
    {
     "data": {
      "image/png": "[encoded data removed]",
      "text/plain": [
       "<matplotlib.figure.Figure at 0x113092320>"
      ]
     },
     "metadata": {},
     "output_type": "display_data"
    }
   ],
   "source": [
    "fig = plt.figure(figsize = (4,4))\n",
    "plt.hist(l1)\n",
    "fig.savefig('HistX.jpg')"
   ]
  },
  {
   "cell_type": "code",
   "execution_count": 1,
   "metadata": {
    "collapsed": true,
    "deletable": true,
    "editable": true
   },
   "outputs": [],
   "source": [
    "import json\n",
    "import numpy as np\n",
    "# Load in NTA shape file\n",
    "with open('nycg.json') as json_data:\n",
    "    d = json.load(json_data)\n",
    "# Dictionary containing shape data and NTA name    \n",
    "dic = {}\n",
    "for i in range(len(d['features'])):\n",
    "    dic[d['features'][i]['properties']['NTAName']] = np.array(d['features'][i]['geometry']['coordinates'][0])"
   ]
  },
  {
   "cell_type": "code",
   "execution_count": 18,
   "metadata": {
    "collapsed": false,
    "deletable": true,
    "editable": true
   },
   "outputs": [
    {
     "data": {
      "text/plain": [
       "1"
      ]
     },
     "execution_count": 18,
     "metadata": {},
     "output_type": "execute_result"
    }
   ],
   "source": [
    "len(dic['park-cemetery-etc-Bronx'])"
   ]
  },
  {
   "cell_type": "code",
   "execution_count": 4,
   "metadata": {
    "collapsed": false,
    "deletable": true,
    "editable": true
   },
   "outputs": [],
   "source": [
    "value_dic, _, _, _ = readDict('./output/Lat_Lon.out', '\\t')\n",
    "del value_dic['NULL']"
   ]
  },
  {
   "cell_type": "code",
   "execution_count": null,
   "metadata": {
    "collapsed": false,
    "deletable": true,
    "editable": true
   },
   "outputs": [],
   "source": [
    "from matplotlib import path\n",
    "NTA_dic = {}\n",
    "cnt = 0\n",
    "miss_sum = 0\n",
    "for lat_lon in value_dic.keys():\n",
    "    point = np.array([[float(lat_lon[1:-1].split(',')[1]), float(lat_lon[1:-1].split(',')[0])]])\n",
    "    flag = False\n",
    "    for k in dic.keys():\n",
    "        try:\n",
    "            p = path.Path(dic[k])\n",
    "        except:\n",
    "            p = path.Path(dic[k][0])\n",
    "        if p.contains_points(point):\n",
    "            if flag:\n",
    "                print('Warning: multiple NTAs contain this point!', lat_lon)\n",
    "            flag = True\n",
    "            if k in NTA_dic.keys():\n",
    "                NTA_dic[k] += value_dic[lat_lon]\n",
    "            else:\n",
    "                NTA_dic[k] = value_dic[lat_lon]\n",
    "    if not flag:\n",
    "        print(lat_lon)\n",
    "        miss_sum += value_dic[lat_lon]\n",
    "    cnt += 1\n",
    "    if cnt % 2000 == 0:\n",
    "        print('processing #', cnt, 'coordinates')\n",
    "print(miss_sum)"
   ]
  },
  {
   "cell_type": "code",
   "execution_count": null,
   "metadata": {
    "collapsed": false,
    "deletable": true,
    "editable": true
   },
   "outputs": [],
   "source": [
    "print(sum(NTA_dic.values()))"
   ]
  },
  {
   "cell_type": "code",
   "execution_count": 15,
   "metadata": {
    "collapsed": false,
    "deletable": true,
    "editable": true
   },
   "outputs": [
    {
     "data": {
      "text/plain": [
       "0.07547817294094372"
      ]
     },
     "execution_count": 15,
     "metadata": {},
     "output_type": "execute_result"
    }
   ],
   "source": [
    "(4913076 - 4542246) / 4913076"
   ]
  },
  {
   "cell_type": "code",
   "execution_count": 24,
   "metadata": {
    "collapsed": false,
    "deletable": true,
    "editable": true
   },
   "outputs": [],
   "source": [
    "NTA_df = pd.DataFrame(columns = ['NTA','Count'])\n",
    "i = 0\n",
    "for k in sorted(NTA_dic.keys()):\n",
    "    NTA_df.loc[i, 'NTA'] = k\n",
    "    NTA_df.loc[i, 'Count'] = NTA_dic[k]\n",
    "    i = i + 1\n",
    "NTA_df.to_csv('NTA.csv')"
   ]
  },
  {
   "cell_type": "code",
   "execution_count": 5,
   "metadata": {
    "collapsed": false,
    "deletable": true,
    "editable": true
   },
   "outputs": [],
   "source": [
    "NTA_df = pd.read_csv('NTA.csv', index_col=0)"
   ]
  },
  {
   "cell_type": "code",
   "execution_count": 7,
   "metadata": {
    "collapsed": false,
    "deletable": true,
    "editable": true
   },
   "outputs": [],
   "source": [
    "def addFeature(df):\n",
    "    cwd = os.getcwd()\n",
    "    for f in os.listdir(cwd+'/census_data/'):\n",
    "        if '.xlsx' in f:\n",
    "            tmp_df = pd.read_excel(cwd+'/census_data/'+f)\n",
    "            NTA = tmp_df.loc[0][0].split(':')[-1].strip()\n",
    "            if 'demo' in f:\n",
    "                df.loc[df.NTA == NTA, 'Male_Prct'] = tmp_df.loc[5][4]\n",
    "                df.loc[df.NTA == NTA, 'Female_Prct'] = tmp_df.loc[6][4]\n",
    "                df.loc[df.NTA == NTA, 'Med_Age'] = tmp_df.loc[22][1]\n",
    "                df.loc[df.NTA == NTA, 'His_Prct'] = tmp_df.loc[34][4]\n",
    "                df.loc[df.NTA == NTA, 'Wht_Prct'] = tmp_df.loc[40][4]\n",
    "                df.loc[df.NTA == NTA, 'Blk_Prct'] = tmp_df.loc[41][4]\n",
    "                df.loc[df.NTA == NTA, 'Asi_Prct'] = tmp_df.loc[43][4]  \n",
    "            elif 'social' in f:\n",
    "                df.loc[df.NTA == NTA, 'M_Mrg_Prct'] = tmp_df.loc[35][4]\n",
    "                df.loc[df.NTA == NTA, 'F_Mrg_Prct'] = tmp_df.loc[42][4]\n",
    "                df.loc[df.NTA == NTA, 'Bf_Hs_Prct'] = tmp_df.loc[69][4]\n",
    "                df.loc[df.NTA == NTA, 'Af_Hs_Prct'] = tmp_df.loc[70][4]\n",
    "                df.loc[df.NTA == NTA, 'Vtr_Prct'] = tmp_df.loc[74][4]\n",
    "                df.loc[df.NTA == NTA, 'Dis_Prct'] = tmp_df.loc[78][4]\n",
    "                df.loc[df.NTA == NTA, 'Citi_Prct'] = tmp_df.loc[110][4]\n",
    "            elif 'econ' in f:\n",
    "                df.loc[df.NTA == NTA, 'Unemp_Prct'] = tmp_df.loc[8][4]\n",
    "                df.loc[df.NTA == NTA, 'Med_Icm'] = tmp_df.loc[80][1]\n",
    "                df.loc[df.NTA == NTA, 'Ins_Prct'] = tmp_df.loc[111][4]\n",
    "                df.loc[df.NTA == NTA, 'Bl_Pvt_Prct'] = tmp_df.loc[141][4]\n",
    "            else:\n",
    "                print(f)                \n",
    "    return df"
   ]
  },
  {
   "cell_type": "code",
   "execution_count": 8,
   "metadata": {
    "collapsed": false,
    "deletable": true,
    "editable": true
   },
   "outputs": [],
   "source": [
    "df_mix = addFeature(NTA_df) "
   ]
  },
  {
   "cell_type": "code",
   "execution_count": 4,
   "metadata": {
    "collapsed": false,
    "deletable": true,
    "editable": true
   },
   "outputs": [],
   "source": [
    "# For debug use\n",
    "cwd = os.getcwd()\n",
    "for f in os.listdir(cwd+'/data/'):\n",
    "    #if 'xlsx' in f and '_' not in f:\n",
    "    if '._' in f:\n",
    "        os.rename(cwd+'/data/'+f,cwd+'/data/'+f.replace('._','_'))\n",
    "        #os.rename(cwd+'/data/'+f,cwd+'/data/'+f[:-4]+'_demo.xlsx')\n",
    "        #break\n",
    "        #os.rename(cwd+'/data/'+f,f[:-4]+'.xlsx')\n",
    "        #tmp_df = pd.read_excel(cwd+'/census_data/'+f)"
   ]
  },
  {
   "cell_type": "code",
   "execution_count": 27,
   "metadata": {
    "collapsed": false,
    "deletable": true,
    "editable": true
   },
   "outputs": [],
   "source": [
    "tmp_df = pd.read_excel(cwd+'/census_data/SoHo-TriBeCa-Civic Center-Little Italy_econ.xlsx')"
   ]
  },
  {
   "cell_type": "code",
   "execution_count": 28,
   "metadata": {
    "collapsed": false,
    "deletable": true,
    "editable": true
   },
   "outputs": [
    {
     "data": {
      "text/html": [
       "<div>\n",
       "<table border=\"1\" class=\"dataframe\">\n",
       "  <thead>\n",
       "    <tr style=\"text-align: right;\">\n",
       "      <th></th>\n",
       "      <th>2010-2014 ACS Economic Profile</th>\n",
       "      <th>Unnamed: 1</th>\n",
       "      <th>Unnamed: 2</th>\n",
       "      <th>NYC Census FactFinder</th>\n",
       "      <th>Unnamed: 4</th>\n",
       "      <th>Unnamed: 5</th>\n",
       "    </tr>\n",
       "  </thead>\n",
       "  <tbody>\n",
       "    <tr>\n",
       "      <th>0</th>\n",
       "      <td>Selected Neighborhood: Spuyten Duyvil-Kingsbridge</td>\n",
       "      <td>NaN</td>\n",
       "      <td>NaN</td>\n",
       "      <td>NaN</td>\n",
       "      <td>NaN</td>\n",
       "      <td>NaN</td>\n",
       "    </tr>\n",
       "    <tr>\n",
       "      <th>1</th>\n",
       "      <td>Selected Economic Characteristics\\n(Grayed val...</td>\n",
       "      <td>Number</td>\n",
       "      <td>NaN</td>\n",
       "      <td>NaN</td>\n",
       "      <td>Percent</td>\n",
       "      <td>NaN</td>\n",
       "    </tr>\n",
       "    <tr>\n",
       "      <th>2</th>\n",
       "      <td>NaN</td>\n",
       "      <td>Estimate</td>\n",
       "      <td>MOE</td>\n",
       "      <td>CV*</td>\n",
       "      <td>Estimate</td>\n",
       "      <td>MOE</td>\n",
       "    </tr>\n",
       "    <tr>\n",
       "      <th>3</th>\n",
       "      <td>EMPLOYMENT STATUS</td>\n",
       "      <td>NaN</td>\n",
       "      <td>NaN</td>\n",
       "      <td>NaN</td>\n",
       "      <td>NaN</td>\n",
       "      <td>NaN</td>\n",
       "    </tr>\n",
       "    <tr>\n",
       "      <th>4</th>\n",
       "      <td>Population 16 years and over</td>\n",
       "      <td>25529</td>\n",
       "      <td>1012</td>\n",
       "      <td>2.4</td>\n",
       "      <td>1</td>\n",
       "      <td>NaN</td>\n",
       "    </tr>\n",
       "    <tr>\n",
       "      <th>5</th>\n",
       "      <td>In labor force</td>\n",
       "      <td>15850</td>\n",
       "      <td>779</td>\n",
       "      <td>3</td>\n",
       "      <td>0.621</td>\n",
       "      <td>0.018</td>\n",
       "    </tr>\n",
       "    <tr>\n",
       "      <th>6</th>\n",
       "      <td>Civilian labor force</td>\n",
       "      <td>15850</td>\n",
       "      <td>779</td>\n",
       "      <td>3</td>\n",
       "      <td>0.621</td>\n",
       "      <td>0.018</td>\n",
       "    </tr>\n",
       "    <tr>\n",
       "      <th>7</th>\n",
       "      <td>Employed</td>\n",
       "      <td>14560</td>\n",
       "      <td>756</td>\n",
       "      <td>3.2</td>\n",
       "      <td>0.57</td>\n",
       "      <td>0.019</td>\n",
       "    </tr>\n",
       "    <tr>\n",
       "      <th>8</th>\n",
       "      <td>Unemployed</td>\n",
       "      <td>1290</td>\n",
       "      <td>248</td>\n",
       "      <td>11.7</td>\n",
       "      <td>0.051</td>\n",
       "      <td>0.01</td>\n",
       "    </tr>\n",
       "    <tr>\n",
       "      <th>9</th>\n",
       "      <td>Armed Forces</td>\n",
       "      <td>0</td>\n",
       "      <td>NaN</td>\n",
       "      <td>NaN</td>\n",
       "      <td>NaN</td>\n",
       "      <td>NaN</td>\n",
       "    </tr>\n",
       "    <tr>\n",
       "      <th>10</th>\n",
       "      <td>Not in labor force</td>\n",
       "      <td>9679</td>\n",
       "      <td>823</td>\n",
       "      <td>5.2</td>\n",
       "      <td>0.379</td>\n",
       "      <td>0.029</td>\n",
       "    </tr>\n",
       "    <tr>\n",
       "      <th>11</th>\n",
       "      <td>NaN</td>\n",
       "      <td>NaN</td>\n",
       "      <td>NaN</td>\n",
       "      <td>NaN</td>\n",
       "      <td>NaN</td>\n",
       "      <td>NaN</td>\n",
       "    </tr>\n",
       "    <tr>\n",
       "      <th>12</th>\n",
       "      <td>Civilian labor force</td>\n",
       "      <td>15850</td>\n",
       "      <td>779</td>\n",
       "      <td>3</td>\n",
       "      <td>1</td>\n",
       "      <td>NaN</td>\n",
       "    </tr>\n",
       "    <tr>\n",
       "      <th>13</th>\n",
       "      <td>Unemployed</td>\n",
       "      <td>1290</td>\n",
       "      <td>248</td>\n",
       "      <td>11.7</td>\n",
       "      <td>0.081</td>\n",
       "      <td>0.015</td>\n",
       "    </tr>\n",
       "    <tr>\n",
       "      <th>14</th>\n",
       "      <td>NaN</td>\n",
       "      <td>NaN</td>\n",
       "      <td>NaN</td>\n",
       "      <td>NaN</td>\n",
       "      <td>NaN</td>\n",
       "      <td>NaN</td>\n",
       "    </tr>\n",
       "    <tr>\n",
       "      <th>15</th>\n",
       "      <td>Females 16 years and over</td>\n",
       "      <td>13843</td>\n",
       "      <td>623</td>\n",
       "      <td>2.7</td>\n",
       "      <td>1</td>\n",
       "      <td>NaN</td>\n",
       "    </tr>\n",
       "    <tr>\n",
       "      <th>16</th>\n",
       "      <td>In labor force</td>\n",
       "      <td>8031</td>\n",
       "      <td>480</td>\n",
       "      <td>3.6</td>\n",
       "      <td>0.58</td>\n",
       "      <td>0.023</td>\n",
       "    </tr>\n",
       "    <tr>\n",
       "      <th>17</th>\n",
       "      <td>Civilian labor force</td>\n",
       "      <td>8031</td>\n",
       "      <td>480</td>\n",
       "      <td>3.6</td>\n",
       "      <td>0.58</td>\n",
       "      <td>0.023</td>\n",
       "    </tr>\n",
       "    <tr>\n",
       "      <th>18</th>\n",
       "      <td>Employed</td>\n",
       "      <td>7363</td>\n",
       "      <td>467</td>\n",
       "      <td>3.9</td>\n",
       "      <td>0.532</td>\n",
       "      <td>0.024</td>\n",
       "    </tr>\n",
       "    <tr>\n",
       "      <th>19</th>\n",
       "      <td>NaN</td>\n",
       "      <td>NaN</td>\n",
       "      <td>NaN</td>\n",
       "      <td>NaN</td>\n",
       "      <td>NaN</td>\n",
       "      <td>NaN</td>\n",
       "    </tr>\n",
       "    <tr>\n",
       "      <th>20</th>\n",
       "      <td>Own children under 6 years</td>\n",
       "      <td>2823</td>\n",
       "      <td>378</td>\n",
       "      <td>8.1</td>\n",
       "      <td>1</td>\n",
       "      <td>NaN</td>\n",
       "    </tr>\n",
       "    <tr>\n",
       "      <th>21</th>\n",
       "      <td>All parents in family in labor force</td>\n",
       "      <td>1859</td>\n",
       "      <td>346</td>\n",
       "      <td>11.3</td>\n",
       "      <td>0.659</td>\n",
       "      <td>0.085</td>\n",
       "    </tr>\n",
       "    <tr>\n",
       "      <th>22</th>\n",
       "      <td>NaN</td>\n",
       "      <td>NaN</td>\n",
       "      <td>NaN</td>\n",
       "      <td>NaN</td>\n",
       "      <td>NaN</td>\n",
       "      <td>NaN</td>\n",
       "    </tr>\n",
       "    <tr>\n",
       "      <th>23</th>\n",
       "      <td>Own children 6 to 17 years</td>\n",
       "      <td>3459</td>\n",
       "      <td>494</td>\n",
       "      <td>8.7</td>\n",
       "      <td>1</td>\n",
       "      <td>NaN</td>\n",
       "    </tr>\n",
       "    <tr>\n",
       "      <th>24</th>\n",
       "      <td>All parents in family in labor force</td>\n",
       "      <td>2376</td>\n",
       "      <td>407</td>\n",
       "      <td>10.4</td>\n",
       "      <td>0.687</td>\n",
       "      <td>0.065</td>\n",
       "    </tr>\n",
       "    <tr>\n",
       "      <th>25</th>\n",
       "      <td>NaN</td>\n",
       "      <td>NaN</td>\n",
       "      <td>NaN</td>\n",
       "      <td>NaN</td>\n",
       "      <td>NaN</td>\n",
       "      <td>NaN</td>\n",
       "    </tr>\n",
       "    <tr>\n",
       "      <th>26</th>\n",
       "      <td>COMMUTING TO WORK</td>\n",
       "      <td>NaN</td>\n",
       "      <td>NaN</td>\n",
       "      <td>NaN</td>\n",
       "      <td>NaN</td>\n",
       "      <td>NaN</td>\n",
       "    </tr>\n",
       "    <tr>\n",
       "      <th>27</th>\n",
       "      <td>Workers 16 years and over</td>\n",
       "      <td>14034</td>\n",
       "      <td>759</td>\n",
       "      <td>3.3</td>\n",
       "      <td>1</td>\n",
       "      <td>NaN</td>\n",
       "    </tr>\n",
       "    <tr>\n",
       "      <th>28</th>\n",
       "      <td>Car, truck, or van -- drove alone</td>\n",
       "      <td>3621</td>\n",
       "      <td>419</td>\n",
       "      <td>7</td>\n",
       "      <td>0.258</td>\n",
       "      <td>0.026</td>\n",
       "    </tr>\n",
       "    <tr>\n",
       "      <th>29</th>\n",
       "      <td>Car, truck, or van -- carpooled</td>\n",
       "      <td>1042</td>\n",
       "      <td>257</td>\n",
       "      <td>15</td>\n",
       "      <td>0.074</td>\n",
       "      <td>0.018</td>\n",
       "    </tr>\n",
       "    <tr>\n",
       "      <th>...</th>\n",
       "      <td>...</td>\n",
       "      <td>...</td>\n",
       "      <td>...</td>\n",
       "      <td>...</td>\n",
       "      <td>...</td>\n",
       "      <td>...</td>\n",
       "    </tr>\n",
       "    <tr>\n",
       "      <th>119</th>\n",
       "      <td>Civilian noninstitutionalized population 18 to...</td>\n",
       "      <td>18735</td>\n",
       "      <td>868</td>\n",
       "      <td>2.8</td>\n",
       "      <td>NaN</td>\n",
       "      <td>NaN</td>\n",
       "    </tr>\n",
       "    <tr>\n",
       "      <th>120</th>\n",
       "      <td>In labor force</td>\n",
       "      <td>14816</td>\n",
       "      <td>761</td>\n",
       "      <td>3.1</td>\n",
       "      <td>NaN</td>\n",
       "      <td>NaN</td>\n",
       "    </tr>\n",
       "    <tr>\n",
       "      <th>121</th>\n",
       "      <td>Employed</td>\n",
       "      <td>13599</td>\n",
       "      <td>741</td>\n",
       "      <td>3.3</td>\n",
       "      <td>1</td>\n",
       "      <td>NaN</td>\n",
       "    </tr>\n",
       "    <tr>\n",
       "      <th>122</th>\n",
       "      <td>With health insurance coverage</td>\n",
       "      <td>12080</td>\n",
       "      <td>676</td>\n",
       "      <td>3.4</td>\n",
       "      <td>0.888</td>\n",
       "      <td>0.011</td>\n",
       "    </tr>\n",
       "    <tr>\n",
       "      <th>123</th>\n",
       "      <td>With private health insurance</td>\n",
       "      <td>11129</td>\n",
       "      <td>674</td>\n",
       "      <td>3.7</td>\n",
       "      <td>0.818</td>\n",
       "      <td>0.022</td>\n",
       "    </tr>\n",
       "    <tr>\n",
       "      <th>124</th>\n",
       "      <td>With public coverage</td>\n",
       "      <td>1110</td>\n",
       "      <td>244</td>\n",
       "      <td>13.4</td>\n",
       "      <td>0.082</td>\n",
       "      <td>0.017</td>\n",
       "    </tr>\n",
       "    <tr>\n",
       "      <th>125</th>\n",
       "      <td>No health insurance coverage</td>\n",
       "      <td>1519</td>\n",
       "      <td>411</td>\n",
       "      <td>16.4</td>\n",
       "      <td>0.112</td>\n",
       "      <td>0.03</td>\n",
       "    </tr>\n",
       "    <tr>\n",
       "      <th>126</th>\n",
       "      <td>Unemployed</td>\n",
       "      <td>1217</td>\n",
       "      <td>243</td>\n",
       "      <td>12.1</td>\n",
       "      <td>1</td>\n",
       "      <td>NaN</td>\n",
       "    </tr>\n",
       "    <tr>\n",
       "      <th>127</th>\n",
       "      <td>With health insurance coverage</td>\n",
       "      <td>817</td>\n",
       "      <td>184</td>\n",
       "      <td>13.7</td>\n",
       "      <td>0.671</td>\n",
       "      <td>0.071</td>\n",
       "    </tr>\n",
       "    <tr>\n",
       "      <th>128</th>\n",
       "      <td>With private health insurance</td>\n",
       "      <td>438</td>\n",
       "      <td>142</td>\n",
       "      <td>19.7</td>\n",
       "      <td>0.36</td>\n",
       "      <td>0.092</td>\n",
       "    </tr>\n",
       "    <tr>\n",
       "      <th>129</th>\n",
       "      <td>With public coverage</td>\n",
       "      <td>385</td>\n",
       "      <td>121</td>\n",
       "      <td>19.1</td>\n",
       "      <td>0.316</td>\n",
       "      <td>0.077</td>\n",
       "    </tr>\n",
       "    <tr>\n",
       "      <th>130</th>\n",
       "      <td>No health insurance coverage</td>\n",
       "      <td>400</td>\n",
       "      <td>159</td>\n",
       "      <td>24.2</td>\n",
       "      <td>0.329</td>\n",
       "      <td>0.113</td>\n",
       "    </tr>\n",
       "    <tr>\n",
       "      <th>131</th>\n",
       "      <td>Not in labor force</td>\n",
       "      <td>3919</td>\n",
       "      <td>535</td>\n",
       "      <td>8.3</td>\n",
       "      <td>1</td>\n",
       "      <td>NaN</td>\n",
       "    </tr>\n",
       "    <tr>\n",
       "      <th>132</th>\n",
       "      <td>With health insurance coverage</td>\n",
       "      <td>3674</td>\n",
       "      <td>536</td>\n",
       "      <td>8.9</td>\n",
       "      <td>0.937</td>\n",
       "      <td>0.048</td>\n",
       "    </tr>\n",
       "    <tr>\n",
       "      <th>133</th>\n",
       "      <td>With private health insurance</td>\n",
       "      <td>2374</td>\n",
       "      <td>442</td>\n",
       "      <td>11.3</td>\n",
       "      <td>0.606</td>\n",
       "      <td>0.077</td>\n",
       "    </tr>\n",
       "    <tr>\n",
       "      <th>134</th>\n",
       "      <td>With public coverage</td>\n",
       "      <td>1539</td>\n",
       "      <td>314</td>\n",
       "      <td>12.4</td>\n",
       "      <td>0.393</td>\n",
       "      <td>0.059</td>\n",
       "    </tr>\n",
       "    <tr>\n",
       "      <th>135</th>\n",
       "      <td>No health insurance coverage</td>\n",
       "      <td>245</td>\n",
       "      <td>98</td>\n",
       "      <td>24.4</td>\n",
       "      <td>0.063</td>\n",
       "      <td>0.024</td>\n",
       "    </tr>\n",
       "    <tr>\n",
       "      <th>136</th>\n",
       "      <td>NaN</td>\n",
       "      <td>NaN</td>\n",
       "      <td>NaN</td>\n",
       "      <td>NaN</td>\n",
       "      <td>NaN</td>\n",
       "      <td>NaN</td>\n",
       "    </tr>\n",
       "    <tr>\n",
       "      <th>137</th>\n",
       "      <td>FAMILIES &amp; PEOPLE WHOSE INCOME IN THE PAST 12 ...</td>\n",
       "      <td>NaN</td>\n",
       "      <td>NaN</td>\n",
       "      <td>NaN</td>\n",
       "      <td>NaN</td>\n",
       "      <td>NaN</td>\n",
       "    </tr>\n",
       "    <tr>\n",
       "      <th>138</th>\n",
       "      <td>All families</td>\n",
       "      <td>7493</td>\n",
       "      <td>385</td>\n",
       "      <td>3.1</td>\n",
       "      <td>1</td>\n",
       "      <td>NaN</td>\n",
       "    </tr>\n",
       "    <tr>\n",
       "      <th>139</th>\n",
       "      <td>Below poverty</td>\n",
       "      <td>693</td>\n",
       "      <td>193</td>\n",
       "      <td>17</td>\n",
       "      <td>0.092</td>\n",
       "      <td>0.025</td>\n",
       "    </tr>\n",
       "    <tr>\n",
       "      <th>140</th>\n",
       "      <td>Population for whom poverty status is determined</td>\n",
       "      <td>30299</td>\n",
       "      <td>1157</td>\n",
       "      <td>2.3</td>\n",
       "      <td>1</td>\n",
       "      <td>NaN</td>\n",
       "    </tr>\n",
       "    <tr>\n",
       "      <th>141</th>\n",
       "      <td>Below poverty</td>\n",
       "      <td>3497</td>\n",
       "      <td>680</td>\n",
       "      <td>11.8</td>\n",
       "      <td>0.115</td>\n",
       "      <td>0.022</td>\n",
       "    </tr>\n",
       "    <tr>\n",
       "      <th>142</th>\n",
       "      <td>Under 18 years</td>\n",
       "      <td>6288</td>\n",
       "      <td>630</td>\n",
       "      <td>6.1</td>\n",
       "      <td>1</td>\n",
       "      <td>NaN</td>\n",
       "    </tr>\n",
       "    <tr>\n",
       "      <th>143</th>\n",
       "      <td>Below poverty</td>\n",
       "      <td>970</td>\n",
       "      <td>364</td>\n",
       "      <td>22.8</td>\n",
       "      <td>0.154</td>\n",
       "      <td>0.056</td>\n",
       "    </tr>\n",
       "    <tr>\n",
       "      <th>144</th>\n",
       "      <td>65 years and over</td>\n",
       "      <td>5279</td>\n",
       "      <td>396</td>\n",
       "      <td>4.6</td>\n",
       "      <td>1</td>\n",
       "      <td>NaN</td>\n",
       "    </tr>\n",
       "    <tr>\n",
       "      <th>145</th>\n",
       "      <td>Below poverty</td>\n",
       "      <td>547</td>\n",
       "      <td>144</td>\n",
       "      <td>16</td>\n",
       "      <td>0.104</td>\n",
       "      <td>0.026</td>\n",
       "    </tr>\n",
       "    <tr>\n",
       "      <th>146</th>\n",
       "      <td>NaN</td>\n",
       "      <td>NaN</td>\n",
       "      <td>NaN</td>\n",
       "      <td>NaN</td>\n",
       "      <td>NaN</td>\n",
       "      <td>NaN</td>\n",
       "    </tr>\n",
       "    <tr>\n",
       "      <th>147</th>\n",
       "      <td>*Data associated with estimates of zero, top- ...</td>\n",
       "      <td>NaN</td>\n",
       "      <td>NaN</td>\n",
       "      <td>NaN</td>\n",
       "      <td>NaN</td>\n",
       "      <td>NaN</td>\n",
       "    </tr>\n",
       "    <tr>\n",
       "      <th>148</th>\n",
       "      <td>For more information, see the</td>\n",
       "      <td>User Guide</td>\n",
       "      <td>NaN</td>\n",
       "      <td>NaN</td>\n",
       "      <td>NaN</td>\n",
       "      <td>NaN</td>\n",
       "    </tr>\n",
       "  </tbody>\n",
       "</table>\n",
       "<p>149 rows × 6 columns</p>\n",
       "</div>"
      ],
      "text/plain": [
       "                        2010-2014 ACS Economic Profile  Unnamed: 1 Unnamed: 2  \\\n",
       "0    Selected Neighborhood: Spuyten Duyvil-Kingsbridge         NaN        NaN   \n",
       "1    Selected Economic Characteristics\\n(Grayed val...      Number        NaN   \n",
       "2                                                  NaN    Estimate        MOE   \n",
       "3                                    EMPLOYMENT STATUS         NaN        NaN   \n",
       "4                         Population 16 years and over       25529       1012   \n",
       "5                                       In labor force       15850        779   \n",
       "6                                 Civilian labor force       15850        779   \n",
       "7                                             Employed       14560        756   \n",
       "8                                           Unemployed        1290        248   \n",
       "9                                         Armed Forces           0        NaN   \n",
       "10                                  Not in labor force        9679        823   \n",
       "11                                                 NaN         NaN        NaN   \n",
       "12                                Civilian labor force       15850        779   \n",
       "13                                          Unemployed        1290        248   \n",
       "14                                                 NaN         NaN        NaN   \n",
       "15                           Females 16 years and over       13843        623   \n",
       "16                                      In labor force        8031        480   \n",
       "17                                Civilian labor force        8031        480   \n",
       "18                                            Employed        7363        467   \n",
       "19                                                 NaN         NaN        NaN   \n",
       "20                          Own children under 6 years        2823        378   \n",
       "21                All parents in family in labor force        1859        346   \n",
       "22                                                 NaN         NaN        NaN   \n",
       "23                          Own children 6 to 17 years        3459        494   \n",
       "24                All parents in family in labor force        2376        407   \n",
       "25                                                 NaN         NaN        NaN   \n",
       "26                                   COMMUTING TO WORK         NaN        NaN   \n",
       "27                           Workers 16 years and over       14034        759   \n",
       "28                   Car, truck, or van -- drove alone        3621        419   \n",
       "29                     Car, truck, or van -- carpooled        1042        257   \n",
       "..                                                 ...         ...        ...   \n",
       "119  Civilian noninstitutionalized population 18 to...       18735        868   \n",
       "120                                     In labor force       14816        761   \n",
       "121                                           Employed       13599        741   \n",
       "122                     With health insurance coverage       12080        676   \n",
       "123                      With private health insurance       11129        674   \n",
       "124                               With public coverage        1110        244   \n",
       "125                       No health insurance coverage        1519        411   \n",
       "126                                         Unemployed        1217        243   \n",
       "127                     With health insurance coverage         817        184   \n",
       "128                      With private health insurance         438        142   \n",
       "129                               With public coverage         385        121   \n",
       "130                       No health insurance coverage         400        159   \n",
       "131                                 Not in labor force        3919        535   \n",
       "132                     With health insurance coverage        3674        536   \n",
       "133                      With private health insurance        2374        442   \n",
       "134                               With public coverage        1539        314   \n",
       "135                       No health insurance coverage         245         98   \n",
       "136                                                NaN         NaN        NaN   \n",
       "137  FAMILIES & PEOPLE WHOSE INCOME IN THE PAST 12 ...         NaN        NaN   \n",
       "138                                       All families        7493        385   \n",
       "139                                      Below poverty         693        193   \n",
       "140   Population for whom poverty status is determined       30299       1157   \n",
       "141                                      Below poverty        3497        680   \n",
       "142                                     Under 18 years        6288        630   \n",
       "143                                      Below poverty         970        364   \n",
       "144                                  65 years and over        5279        396   \n",
       "145                                      Below poverty         547        144   \n",
       "146                                                NaN         NaN        NaN   \n",
       "147  *Data associated with estimates of zero, top- ...         NaN        NaN   \n",
       "148                     For more information, see the   User Guide        NaN   \n",
       "\n",
       "    NYC Census FactFinder Unnamed: 4 Unnamed: 5  \n",
       "0                     NaN        NaN        NaN  \n",
       "1                     NaN    Percent        NaN  \n",
       "2                     CV*   Estimate        MOE  \n",
       "3                     NaN        NaN        NaN  \n",
       "4                     2.4          1        NaN  \n",
       "5                       3      0.621      0.018  \n",
       "6                       3      0.621      0.018  \n",
       "7                     3.2       0.57      0.019  \n",
       "8                    11.7      0.051       0.01  \n",
       "9                     NaN        NaN        NaN  \n",
       "10                    5.2      0.379      0.029  \n",
       "11                    NaN        NaN        NaN  \n",
       "12                      3          1        NaN  \n",
       "13                   11.7      0.081      0.015  \n",
       "14                    NaN        NaN        NaN  \n",
       "15                    2.7          1        NaN  \n",
       "16                    3.6       0.58      0.023  \n",
       "17                    3.6       0.58      0.023  \n",
       "18                    3.9      0.532      0.024  \n",
       "19                    NaN        NaN        NaN  \n",
       "20                    8.1          1        NaN  \n",
       "21                   11.3      0.659      0.085  \n",
       "22                    NaN        NaN        NaN  \n",
       "23                    8.7          1        NaN  \n",
       "24                   10.4      0.687      0.065  \n",
       "25                    NaN        NaN        NaN  \n",
       "26                    NaN        NaN        NaN  \n",
       "27                    3.3          1        NaN  \n",
       "28                      7      0.258      0.026  \n",
       "29                     15      0.074      0.018  \n",
       "..                    ...        ...        ...  \n",
       "119                   2.8        NaN        NaN  \n",
       "120                   3.1        NaN        NaN  \n",
       "121                   3.3          1        NaN  \n",
       "122                   3.4      0.888      0.011  \n",
       "123                   3.7      0.818      0.022  \n",
       "124                  13.4      0.082      0.017  \n",
       "125                  16.4      0.112       0.03  \n",
       "126                  12.1          1        NaN  \n",
       "127                  13.7      0.671      0.071  \n",
       "128                  19.7       0.36      0.092  \n",
       "129                  19.1      0.316      0.077  \n",
       "130                  24.2      0.329      0.113  \n",
       "131                   8.3          1        NaN  \n",
       "132                   8.9      0.937      0.048  \n",
       "133                  11.3      0.606      0.077  \n",
       "134                  12.4      0.393      0.059  \n",
       "135                  24.4      0.063      0.024  \n",
       "136                   NaN        NaN        NaN  \n",
       "137                   NaN        NaN        NaN  \n",
       "138                   3.1          1        NaN  \n",
       "139                    17      0.092      0.025  \n",
       "140                   2.3          1        NaN  \n",
       "141                  11.8      0.115      0.022  \n",
       "142                   6.1          1        NaN  \n",
       "143                  22.8      0.154      0.056  \n",
       "144                   4.6          1        NaN  \n",
       "145                    16      0.104      0.026  \n",
       "146                   NaN        NaN        NaN  \n",
       "147                   NaN        NaN        NaN  \n",
       "148                   NaN        NaN        NaN  \n",
       "\n",
       "[149 rows x 6 columns]"
      ]
     },
     "execution_count": 28,
     "metadata": {},
     "output_type": "execute_result"
    }
   ],
   "source": [
    "tmp_df"
   ]
  },
  {
   "cell_type": "code",
   "execution_count": 12,
   "metadata": {
    "collapsed": false,
    "deletable": true,
    "editable": true
   },
   "outputs": [],
   "source": [
    "df_final = df_mix.drop(df_mix.index[[177,178,179,180]])"
   ]
  },
  {
   "cell_type": "code",
   "execution_count": 13,
   "metadata": {
    "collapsed": true,
    "deletable": true,
    "editable": true
   },
   "outputs": [],
   "source": [
    "df_final.to_csv('Merged_Data.csv')"
   ]
  },
  {
   "cell_type": "code",
   "execution_count": 5,
   "metadata": {
    "collapsed": false,
    "deletable": true,
    "editable": true
   },
   "outputs": [],
   "source": [
    "df_final=pd.read_csv('Merged_Data.csv')"
   ]
  },
  {
   "cell_type": "code",
   "execution_count": 8,
   "metadata": {
    "collapsed": false,
    "deletable": true,
    "editable": true
   },
   "outputs": [
    {
     "data": {
      "text/plain": [
       "21"
      ]
     },
     "execution_count": 8,
     "metadata": {},
     "output_type": "execute_result"
    }
   ],
   "source": [
    "len(df_final.columns)"
   ]
  },
  {
   "cell_type": "code",
   "execution_count": null,
   "metadata": {
    "collapsed": true,
    "deletable": true,
    "editable": true
   },
   "outputs": [],
   "source": []
  }
 ],
 "metadata": {
  "kernelspec": {
   "display_name": "Python [Root]",
   "language": "python",
   "name": "Python [Root]"
  },
  "language_info": {
   "codemirror_mode": {
    "name": "ipython",
    "version": 3
   },
   "file_extension": ".py",
   "mimetype": "text/x-python",
   "name": "python",
   "nbconvert_exporter": "python",
   "pygments_lexer": "ipython3",
   "version": "3.5.2"
  }
 },
 "nbformat": 4,
 "nbformat_minor": 2
}
